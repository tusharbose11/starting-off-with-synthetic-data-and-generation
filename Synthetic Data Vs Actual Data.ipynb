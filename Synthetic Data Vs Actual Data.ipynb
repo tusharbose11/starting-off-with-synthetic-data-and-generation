{
 "cells": [
  {
   "cell_type": "code",
   "execution_count": 1,
   "id": "2b6f892e",
   "metadata": {},
   "outputs": [
    {
     "data": {
      "text/html": [
       "<div>\n",
       "<style scoped>\n",
       "    .dataframe tbody tr th:only-of-type {\n",
       "        vertical-align: middle;\n",
       "    }\n",
       "\n",
       "    .dataframe tbody tr th {\n",
       "        vertical-align: top;\n",
       "    }\n",
       "\n",
       "    .dataframe thead th {\n",
       "        text-align: right;\n",
       "    }\n",
       "</style>\n",
       "<table border=\"1\" class=\"dataframe\">\n",
       "  <thead>\n",
       "    <tr style=\"text-align: right;\">\n",
       "      <th></th>\n",
       "      <th>land_area</th>\n",
       "      <th>percent_city</th>\n",
       "      <th>percent_senior</th>\n",
       "      <th>physicians</th>\n",
       "      <th>hospital_beds</th>\n",
       "      <th>graduates</th>\n",
       "      <th>work_force</th>\n",
       "      <th>income</th>\n",
       "      <th>region</th>\n",
       "      <th>crime_rate</th>\n",
       "    </tr>\n",
       "  </thead>\n",
       "  <tbody>\n",
       "    <tr>\n",
       "      <th>0</th>\n",
       "      <td>1384</td>\n",
       "      <td>78.1</td>\n",
       "      <td>12.3</td>\n",
       "      <td>25627</td>\n",
       "      <td>69678</td>\n",
       "      <td>50.1</td>\n",
       "      <td>4083.9</td>\n",
       "      <td>72100</td>\n",
       "      <td>1</td>\n",
       "      <td>75.55</td>\n",
       "    </tr>\n",
       "    <tr>\n",
       "      <th>1</th>\n",
       "      <td>3719</td>\n",
       "      <td>43.9</td>\n",
       "      <td>9.4</td>\n",
       "      <td>13326</td>\n",
       "      <td>43292</td>\n",
       "      <td>53.9</td>\n",
       "      <td>3305.9</td>\n",
       "      <td>54542</td>\n",
       "      <td>2</td>\n",
       "      <td>56.03</td>\n",
       "    </tr>\n",
       "    <tr>\n",
       "      <th>2</th>\n",
       "      <td>3553</td>\n",
       "      <td>37.4</td>\n",
       "      <td>10.7</td>\n",
       "      <td>9724</td>\n",
       "      <td>33731</td>\n",
       "      <td>50.6</td>\n",
       "      <td>2066.3</td>\n",
       "      <td>33216</td>\n",
       "      <td>1</td>\n",
       "      <td>41.32</td>\n",
       "    </tr>\n",
       "    <tr>\n",
       "      <th>3</th>\n",
       "      <td>3916</td>\n",
       "      <td>29.9</td>\n",
       "      <td>8.8</td>\n",
       "      <td>6402</td>\n",
       "      <td>24167</td>\n",
       "      <td>52.2</td>\n",
       "      <td>1966.7</td>\n",
       "      <td>32906</td>\n",
       "      <td>2</td>\n",
       "      <td>67.38</td>\n",
       "    </tr>\n",
       "    <tr>\n",
       "      <th>4</th>\n",
       "      <td>2480</td>\n",
       "      <td>31.5</td>\n",
       "      <td>10.5</td>\n",
       "      <td>8502</td>\n",
       "      <td>16751</td>\n",
       "      <td>66.1</td>\n",
       "      <td>1514.5</td>\n",
       "      <td>26573</td>\n",
       "      <td>4</td>\n",
       "      <td>80.19</td>\n",
       "    </tr>\n",
       "  </tbody>\n",
       "</table>\n",
       "</div>"
      ],
      "text/plain": [
       "   land_area  percent_city  percent_senior  physicians  hospital_beds  \\\n",
       "0       1384          78.1            12.3       25627          69678   \n",
       "1       3719          43.9             9.4       13326          43292   \n",
       "2       3553          37.4            10.7        9724          33731   \n",
       "3       3916          29.9             8.8        6402          24167   \n",
       "4       2480          31.5            10.5        8502          16751   \n",
       "\n",
       "   graduates  work_force  income  region  crime_rate  \n",
       "0       50.1      4083.9   72100       1       75.55  \n",
       "1       53.9      3305.9   54542       2       56.03  \n",
       "2       50.6      2066.3   33216       1       41.32  \n",
       "3       52.2      1966.7   32906       2       67.38  \n",
       "4       66.1      1514.5   26573       4       80.19  "
      ]
     },
     "execution_count": 1,
     "metadata": {},
     "output_type": "execute_result"
    }
   ],
   "source": [
    "#importing necessary libraries\n",
    "import matplotlib.pyplot as plt\n",
    "import pandas as pd\n",
    "import numpy as np\n",
    "%matplotlib inline\n",
    "from sklearn.model_selection import train_test_split\n",
    "import seaborn as sb\n",
    "from sklearn.linear_model import LinearRegression\n",
    "linReg = LinearRegression()\n",
    "df = pd.read_csv('metro.csv')\n",
    "df.head()"
   ]
  },
  {
   "cell_type": "code",
   "execution_count": 2,
   "id": "12adc15c",
   "metadata": {},
   "outputs": [
    {
     "data": {
      "text/html": [
       "<div>\n",
       "<style scoped>\n",
       "    .dataframe tbody tr th:only-of-type {\n",
       "        vertical-align: middle;\n",
       "    }\n",
       "\n",
       "    .dataframe tbody tr th {\n",
       "        vertical-align: top;\n",
       "    }\n",
       "\n",
       "    .dataframe thead th {\n",
       "        text-align: right;\n",
       "    }\n",
       "</style>\n",
       "<table border=\"1\" class=\"dataframe\">\n",
       "  <thead>\n",
       "    <tr style=\"text-align: right;\">\n",
       "      <th></th>\n",
       "      <th>land_area</th>\n",
       "      <th>percent_city</th>\n",
       "      <th>percent_senior</th>\n",
       "      <th>physicians</th>\n",
       "      <th>hospital_beds</th>\n",
       "      <th>graduates</th>\n",
       "      <th>work_force</th>\n",
       "      <th>income</th>\n",
       "      <th>region</th>\n",
       "      <th>crime_rate</th>\n",
       "    </tr>\n",
       "  </thead>\n",
       "  <tbody>\n",
       "    <tr>\n",
       "      <th>count</th>\n",
       "      <td>99.000000</td>\n",
       "      <td>99.000000</td>\n",
       "      <td>99.000000</td>\n",
       "      <td>99.000000</td>\n",
       "      <td>99.000000</td>\n",
       "      <td>99.000000</td>\n",
       "      <td>99.000000</td>\n",
       "      <td>99.000000</td>\n",
       "      <td>99.000000</td>\n",
       "      <td>99.000000</td>\n",
       "    </tr>\n",
       "    <tr>\n",
       "      <th>mean</th>\n",
       "      <td>2615.727273</td>\n",
       "      <td>42.518182</td>\n",
       "      <td>9.781818</td>\n",
       "      <td>1828.333333</td>\n",
       "      <td>6345.868687</td>\n",
       "      <td>54.463636</td>\n",
       "      <td>449.366667</td>\n",
       "      <td>6762.505051</td>\n",
       "      <td>2.494949</td>\n",
       "      <td>55.643030</td>\n",
       "    </tr>\n",
       "    <tr>\n",
       "      <th>std</th>\n",
       "      <td>3045.826210</td>\n",
       "      <td>17.348277</td>\n",
       "      <td>2.524547</td>\n",
       "      <td>3192.199763</td>\n",
       "      <td>9136.202716</td>\n",
       "      <td>7.773286</td>\n",
       "      <td>610.990885</td>\n",
       "      <td>10393.349660</td>\n",
       "      <td>1.013921</td>\n",
       "      <td>13.470943</td>\n",
       "    </tr>\n",
       "    <tr>\n",
       "      <th>min</th>\n",
       "      <td>47.000000</td>\n",
       "      <td>13.400000</td>\n",
       "      <td>3.900000</td>\n",
       "      <td>140.000000</td>\n",
       "      <td>481.000000</td>\n",
       "      <td>30.300000</td>\n",
       "      <td>66.900000</td>\n",
       "      <td>769.000000</td>\n",
       "      <td>1.000000</td>\n",
       "      <td>23.320000</td>\n",
       "    </tr>\n",
       "    <tr>\n",
       "      <th>25%</th>\n",
       "      <td>1408.000000</td>\n",
       "      <td>30.100000</td>\n",
       "      <td>8.350000</td>\n",
       "      <td>459.000000</td>\n",
       "      <td>2390.000000</td>\n",
       "      <td>50.250000</td>\n",
       "      <td>150.300000</td>\n",
       "      <td>2003.000000</td>\n",
       "      <td>2.000000</td>\n",
       "      <td>46.115000</td>\n",
       "    </tr>\n",
       "    <tr>\n",
       "      <th>50%</th>\n",
       "      <td>1951.000000</td>\n",
       "      <td>39.500000</td>\n",
       "      <td>9.700000</td>\n",
       "      <td>774.000000</td>\n",
       "      <td>3472.000000</td>\n",
       "      <td>54.000000</td>\n",
       "      <td>257.200000</td>\n",
       "      <td>3510.000000</td>\n",
       "      <td>3.000000</td>\n",
       "      <td>56.060000</td>\n",
       "    </tr>\n",
       "    <tr>\n",
       "      <th>75%</th>\n",
       "      <td>2890.500000</td>\n",
       "      <td>52.600000</td>\n",
       "      <td>10.750000</td>\n",
       "      <td>1911.500000</td>\n",
       "      <td>6386.500000</td>\n",
       "      <td>58.300000</td>\n",
       "      <td>436.500000</td>\n",
       "      <td>6283.500000</td>\n",
       "      <td>3.000000</td>\n",
       "      <td>63.860000</td>\n",
       "    </tr>\n",
       "    <tr>\n",
       "      <th>max</th>\n",
       "      <td>27293.000000</td>\n",
       "      <td>100.000000</td>\n",
       "      <td>21.800000</td>\n",
       "      <td>25627.000000</td>\n",
       "      <td>69678.000000</td>\n",
       "      <td>72.800000</td>\n",
       "      <td>4083.900000</td>\n",
       "      <td>72100.000000</td>\n",
       "      <td>4.000000</td>\n",
       "      <td>85.620000</td>\n",
       "    </tr>\n",
       "  </tbody>\n",
       "</table>\n",
       "</div>"
      ],
      "text/plain": [
       "          land_area  percent_city  percent_senior    physicians  \\\n",
       "count     99.000000     99.000000       99.000000     99.000000   \n",
       "mean    2615.727273     42.518182        9.781818   1828.333333   \n",
       "std     3045.826210     17.348277        2.524547   3192.199763   \n",
       "min       47.000000     13.400000        3.900000    140.000000   \n",
       "25%     1408.000000     30.100000        8.350000    459.000000   \n",
       "50%     1951.000000     39.500000        9.700000    774.000000   \n",
       "75%     2890.500000     52.600000       10.750000   1911.500000   \n",
       "max    27293.000000    100.000000       21.800000  25627.000000   \n",
       "\n",
       "       hospital_beds  graduates   work_force        income     region  \\\n",
       "count      99.000000  99.000000    99.000000     99.000000  99.000000   \n",
       "mean     6345.868687  54.463636   449.366667   6762.505051   2.494949   \n",
       "std      9136.202716   7.773286   610.990885  10393.349660   1.013921   \n",
       "min       481.000000  30.300000    66.900000    769.000000   1.000000   \n",
       "25%      2390.000000  50.250000   150.300000   2003.000000   2.000000   \n",
       "50%      3472.000000  54.000000   257.200000   3510.000000   3.000000   \n",
       "75%      6386.500000  58.300000   436.500000   6283.500000   3.000000   \n",
       "max     69678.000000  72.800000  4083.900000  72100.000000   4.000000   \n",
       "\n",
       "       crime_rate  \n",
       "count   99.000000  \n",
       "mean    55.643030  \n",
       "std     13.470943  \n",
       "min     23.320000  \n",
       "25%     46.115000  \n",
       "50%     56.060000  \n",
       "75%     63.860000  \n",
       "max     85.620000  "
      ]
     },
     "execution_count": 2,
     "metadata": {},
     "output_type": "execute_result"
    }
   ],
   "source": [
    "df.describe() #exploring the given dataset for insights"
   ]
  },
  {
   "cell_type": "markdown",
   "id": "343ff0f8",
   "metadata": {},
   "source": [
    "### Generating Synthetic Dataset"
   ]
  },
  {
   "cell_type": "code",
   "execution_count": 3,
   "id": "afab5919",
   "metadata": {},
   "outputs": [],
   "source": [
    "import random\n",
    "import time"
   ]
  },
  {
   "cell_type": "markdown",
   "id": "f8a203e1",
   "metadata": {},
   "source": [
    "Faker is a Python package that generates fake data for you. Whether you need to create datasets that contain certains types of features and targets, or anonymize data taken from a production service, Faker is for you.\n"
   ]
  },
  {
   "cell_type": "code",
   "execution_count": 4,
   "id": "71a8f4b8",
   "metadata": {},
   "outputs": [],
   "source": [
    "from faker import Faker\n",
    "\n",
    "fake = Faker()"
   ]
  },
  {
   "cell_type": "code",
   "execution_count": 5,
   "id": "d50bebe8",
   "metadata": {},
   "outputs": [],
   "source": [
    "def gen_data(num=1, seed=None): #this function generates fake data for our synthetic dataset\n",
    "\n",
    "    np.random.seed(seed)\n",
    "    fake.seed_instance(seed)\n",
    "\n",
    "    output = [\n",
    "        {\n",
    "            \"land_area\": np.random.randint(47, 27293),\n",
    "            \"percent_city\" : np.random.uniform(13.4, 100),\n",
    "            \"percent_senior\": np.random.uniform(3.8, 21.9),\n",
    "            \"physicians\": np.random.randint(140, 25627),\n",
    "            \"hospital_beds\": np.random.randint(481, 69678),\n",
    "            \"graduates\": np.random.uniform(30.2, 72.9),\n",
    "            \"work_force\": np.random.uniform(66.8, 4083.9),\n",
    "            \"income\": np.random.randint(769, 72100),\n",
    "            \"region\": np.random.randint(1, 4),\n",
    "            \"crime_rate\": np.random.uniform(23.2, 85.7),\n",
    "        }\n",
    "        for x in range(num)\n",
    "    ]\n",
    "    return output"
   ]
  },
  {
   "cell_type": "code",
   "execution_count": 6,
   "id": "ccaf6806",
   "metadata": {},
   "outputs": [
    {
     "name": "stdout",
     "output_type": "stream",
     "text": [
      "Wall time: 4.99 ms\n"
     ]
    },
    {
     "data": {
      "text/html": [
       "<div>\n",
       "<style scoped>\n",
       "    .dataframe tbody tr th:only-of-type {\n",
       "        vertical-align: middle;\n",
       "    }\n",
       "\n",
       "    .dataframe tbody tr th {\n",
       "        vertical-align: top;\n",
       "    }\n",
       "\n",
       "    .dataframe thead th {\n",
       "        text-align: right;\n",
       "    }\n",
       "</style>\n",
       "<table border=\"1\" class=\"dataframe\">\n",
       "  <thead>\n",
       "    <tr style=\"text-align: right;\">\n",
       "      <th></th>\n",
       "      <th>land_area</th>\n",
       "      <th>percent_city</th>\n",
       "      <th>percent_senior</th>\n",
       "      <th>physicians</th>\n",
       "      <th>hospital_beds</th>\n",
       "      <th>graduates</th>\n",
       "      <th>work_force</th>\n",
       "      <th>income</th>\n",
       "      <th>region</th>\n",
       "      <th>crime_rate</th>\n",
       "    </tr>\n",
       "  </thead>\n",
       "  <tbody>\n",
       "    <tr>\n",
       "      <th>0</th>\n",
       "      <td>2779</td>\n",
       "      <td>64.740344</td>\n",
       "      <td>19.081210</td>\n",
       "      <td>21383</td>\n",
       "      <td>42474</td>\n",
       "      <td>56.826170</td>\n",
       "      <td>1610.899756</td>\n",
       "      <td>49369</td>\n",
       "      <td>1</td>\n",
       "      <td>40.241018</td>\n",
       "    </tr>\n",
       "    <tr>\n",
       "      <th>1</th>\n",
       "      <td>17136</td>\n",
       "      <td>81.963388</td>\n",
       "      <td>13.372998</td>\n",
       "      <td>24292</td>\n",
       "      <td>7402</td>\n",
       "      <td>57.876939</td>\n",
       "      <td>1546.063090</td>\n",
       "      <td>8646</td>\n",
       "      <td>3</td>\n",
       "      <td>31.971924</td>\n",
       "    </tr>\n",
       "    <tr>\n",
       "      <th>2</th>\n",
       "      <td>2543</td>\n",
       "      <td>98.148348</td>\n",
       "      <td>18.264770</td>\n",
       "      <td>895</td>\n",
       "      <td>1278</td>\n",
       "      <td>63.528596</td>\n",
       "      <td>541.920196</td>\n",
       "      <td>53258</td>\n",
       "      <td>2</td>\n",
       "      <td>82.241807</td>\n",
       "    </tr>\n",
       "    <tr>\n",
       "      <th>3</th>\n",
       "      <td>23118</td>\n",
       "      <td>22.571599</td>\n",
       "      <td>12.372168</td>\n",
       "      <td>11863</td>\n",
       "      <td>44371</td>\n",
       "      <td>49.677619</td>\n",
       "      <td>2350.256016</td>\n",
       "      <td>60069</td>\n",
       "      <td>2</td>\n",
       "      <td>32.554679</td>\n",
       "    </tr>\n",
       "    <tr>\n",
       "      <th>4</th>\n",
       "      <td>3607</td>\n",
       "      <td>66.826484</td>\n",
       "      <td>20.881840</td>\n",
       "      <td>18165</td>\n",
       "      <td>47003</td>\n",
       "      <td>56.377810</td>\n",
       "      <td>3691.624493</td>\n",
       "      <td>29416</td>\n",
       "      <td>2</td>\n",
       "      <td>83.813067</td>\n",
       "    </tr>\n",
       "  </tbody>\n",
       "</table>\n",
       "</div>"
      ],
      "text/plain": [
       "   land_area  percent_city  percent_senior  physicians  hospital_beds  \\\n",
       "0       2779     64.740344       19.081210       21383          42474   \n",
       "1      17136     81.963388       13.372998       24292           7402   \n",
       "2       2543     98.148348       18.264770         895           1278   \n",
       "3      23118     22.571599       12.372168       11863          44371   \n",
       "4       3607     66.826484       20.881840       18165          47003   \n",
       "\n",
       "   graduates   work_force  income  region  crime_rate  \n",
       "0  56.826170  1610.899756   49369       1   40.241018  \n",
       "1  57.876939  1546.063090    8646       3   31.971924  \n",
       "2  63.528596   541.920196   53258       2   82.241807  \n",
       "3  49.677619  2350.256016   60069       2   32.554679  \n",
       "4  56.377810  3691.624493   29416       2   83.813067  "
      ]
     },
     "execution_count": 6,
     "metadata": {},
     "output_type": "execute_result"
    }
   ],
   "source": [
    "%%time\n",
    "df2 = pd.DataFrame(gen_data(num=99, seed=0))\n",
    "df2.head()"
   ]
  },
  {
   "cell_type": "code",
   "execution_count": 7,
   "id": "475af7c0",
   "metadata": {},
   "outputs": [],
   "source": [
    "df2.to_csv(\"synth_metro.csv\") #exporting our generated dataset to csv file"
   ]
  },
  {
   "cell_type": "markdown",
   "id": "b97a4a21",
   "metadata": {},
   "source": [
    "### Working on Actual Dataset"
   ]
  },
  {
   "cell_type": "code",
   "execution_count": 8,
   "id": "a3757151",
   "metadata": {},
   "outputs": [
    {
     "data": {
      "text/html": [
       "<div>\n",
       "<style scoped>\n",
       "    .dataframe tbody tr th:only-of-type {\n",
       "        vertical-align: middle;\n",
       "    }\n",
       "\n",
       "    .dataframe tbody tr th {\n",
       "        vertical-align: top;\n",
       "    }\n",
       "\n",
       "    .dataframe thead th {\n",
       "        text-align: right;\n",
       "    }\n",
       "</style>\n",
       "<table border=\"1\" class=\"dataframe\">\n",
       "  <thead>\n",
       "    <tr style=\"text-align: right;\">\n",
       "      <th></th>\n",
       "      <th>land_area</th>\n",
       "      <th>percent_city</th>\n",
       "      <th>percent_senior</th>\n",
       "      <th>physicians</th>\n",
       "      <th>hospital_beds</th>\n",
       "      <th>graduates</th>\n",
       "      <th>work_force</th>\n",
       "      <th>income</th>\n",
       "      <th>region</th>\n",
       "      <th>crime_rate</th>\n",
       "    </tr>\n",
       "  </thead>\n",
       "  <tbody>\n",
       "    <tr>\n",
       "      <th>0</th>\n",
       "      <td>1384</td>\n",
       "      <td>78.1</td>\n",
       "      <td>12.3</td>\n",
       "      <td>25627</td>\n",
       "      <td>69678</td>\n",
       "      <td>50.1</td>\n",
       "      <td>4083.9</td>\n",
       "      <td>72100</td>\n",
       "      <td>1</td>\n",
       "      <td>75.55</td>\n",
       "    </tr>\n",
       "    <tr>\n",
       "      <th>1</th>\n",
       "      <td>3719</td>\n",
       "      <td>43.9</td>\n",
       "      <td>9.4</td>\n",
       "      <td>13326</td>\n",
       "      <td>43292</td>\n",
       "      <td>53.9</td>\n",
       "      <td>3305.9</td>\n",
       "      <td>54542</td>\n",
       "      <td>2</td>\n",
       "      <td>56.03</td>\n",
       "    </tr>\n",
       "    <tr>\n",
       "      <th>2</th>\n",
       "      <td>3553</td>\n",
       "      <td>37.4</td>\n",
       "      <td>10.7</td>\n",
       "      <td>9724</td>\n",
       "      <td>33731</td>\n",
       "      <td>50.6</td>\n",
       "      <td>2066.3</td>\n",
       "      <td>33216</td>\n",
       "      <td>1</td>\n",
       "      <td>41.32</td>\n",
       "    </tr>\n",
       "    <tr>\n",
       "      <th>3</th>\n",
       "      <td>3916</td>\n",
       "      <td>29.9</td>\n",
       "      <td>8.8</td>\n",
       "      <td>6402</td>\n",
       "      <td>24167</td>\n",
       "      <td>52.2</td>\n",
       "      <td>1966.7</td>\n",
       "      <td>32906</td>\n",
       "      <td>2</td>\n",
       "      <td>67.38</td>\n",
       "    </tr>\n",
       "    <tr>\n",
       "      <th>4</th>\n",
       "      <td>2480</td>\n",
       "      <td>31.5</td>\n",
       "      <td>10.5</td>\n",
       "      <td>8502</td>\n",
       "      <td>16751</td>\n",
       "      <td>66.1</td>\n",
       "      <td>1514.5</td>\n",
       "      <td>26573</td>\n",
       "      <td>4</td>\n",
       "      <td>80.19</td>\n",
       "    </tr>\n",
       "  </tbody>\n",
       "</table>\n",
       "</div>"
      ],
      "text/plain": [
       "   land_area  percent_city  percent_senior  physicians  hospital_beds  \\\n",
       "0       1384          78.1            12.3       25627          69678   \n",
       "1       3719          43.9             9.4       13326          43292   \n",
       "2       3553          37.4            10.7        9724          33731   \n",
       "3       3916          29.9             8.8        6402          24167   \n",
       "4       2480          31.5            10.5        8502          16751   \n",
       "\n",
       "   graduates  work_force  income  region  crime_rate  \n",
       "0       50.1      4083.9   72100       1       75.55  \n",
       "1       53.9      3305.9   54542       2       56.03  \n",
       "2       50.6      2066.3   33216       1       41.32  \n",
       "3       52.2      1966.7   32906       2       67.38  \n",
       "4       66.1      1514.5   26573       4       80.19  "
      ]
     },
     "execution_count": 8,
     "metadata": {},
     "output_type": "execute_result"
    }
   ],
   "source": [
    "df = pd.read_csv('metro.csv')\n",
    "df.head() #reading original dataset"
   ]
  },
  {
   "cell_type": "code",
   "execution_count": 9,
   "id": "581934d5",
   "metadata": {},
   "outputs": [
    {
     "data": {
      "text/plain": [
       "Index(['land_area', 'percent_city', 'percent_senior', 'physicians',\n",
       "       'hospital_beds', 'graduates', 'work_force', 'income', 'region',\n",
       "       'crime_rate'],\n",
       "      dtype='object')"
      ]
     },
     "execution_count": 9,
     "metadata": {},
     "output_type": "execute_result"
    }
   ],
   "source": [
    "df.describe().columns"
   ]
  },
  {
   "cell_type": "code",
   "execution_count": 10,
   "id": "6e928187",
   "metadata": {},
   "outputs": [
    {
     "data": {
      "text/plain": [
       "<AxesSubplot:>"
      ]
     },
     "execution_count": 10,
     "metadata": {},
     "output_type": "execute_result"
    },
    {
     "data": {
      "image/png": "[encoded data removed]",
      "text/plain": [
       "<Figure size 432x288 with 2 Axes>"
      ]
     },
     "metadata": {
      "needs_background": "light"
     },
     "output_type": "display_data"
    }
   ],
   "source": [
    "sb.heatmap(df.corr(), annot=True) #finding correlations between the attributes"
   ]
  },
  {
   "cell_type": "code",
   "execution_count": 31,
   "id": "453b7342",
   "metadata": {},
   "outputs": [],
   "source": [
    "## Performing a simple feature selection\n",
    "X = df[['land_area', 'percent_city', 'percent_senior', 'physicians',\n",
    "       'hospital_beds', 'graduates', 'work_force', 'income', 'region']].values\n",
    "Y = df[['crime_rate']].values"
   ]
  },
  {
   "cell_type": "code",
   "execution_count": 32,
   "id": "5c5c2ee4",
   "metadata": {},
   "outputs": [],
   "source": [
    "X_train, X_test, Y_train, Y_test = train_test_split(X, Y)"
   ]
  },
  {
   "cell_type": "code",
   "execution_count": 33,
   "id": "ab32fe1c",
   "metadata": {},
   "outputs": [
    {
     "data": {
      "text/plain": [
       "LinearRegression()"
      ]
     },
     "execution_count": 33,
     "metadata": {},
     "output_type": "execute_result"
    }
   ],
   "source": [
    "linReg.fit(X_train,Y_train)"
   ]
  },
  {
   "cell_type": "code",
   "execution_count": 34,
   "id": "68ee0ab1",
   "metadata": {},
   "outputs": [
    {
     "data": {
      "text/plain": [
       "0.5097754671085375"
      ]
     },
     "execution_count": 34,
     "metadata": {},
     "output_type": "execute_result"
    }
   ],
   "source": [
    "linReg.score(X_test,Y_test) #calculating score / R^2"
   ]
  },
  {
   "cell_type": "markdown",
   "id": "2469918d",
   "metadata": {},
   "source": [
    "### Working on Synthesised Dataset"
   ]
  },
  {
   "cell_type": "code",
   "execution_count": 35,
   "id": "ca96fe6b",
   "metadata": {},
   "outputs": [
    {
     "data": {
      "text/html": [
       "<div>\n",
       "<style scoped>\n",
       "    .dataframe tbody tr th:only-of-type {\n",
       "        vertical-align: middle;\n",
       "    }\n",
       "\n",
       "    .dataframe tbody tr th {\n",
       "        vertical-align: top;\n",
       "    }\n",
       "\n",
       "    .dataframe thead th {\n",
       "        text-align: right;\n",
       "    }\n",
       "</style>\n",
       "<table border=\"1\" class=\"dataframe\">\n",
       "  <thead>\n",
       "    <tr style=\"text-align: right;\">\n",
       "      <th></th>\n",
       "      <th>land_area</th>\n",
       "      <th>percent_city</th>\n",
       "      <th>percent_senior</th>\n",
       "      <th>physicians</th>\n",
       "      <th>hospital_beds</th>\n",
       "      <th>graduates</th>\n",
       "      <th>work_force</th>\n",
       "      <th>income</th>\n",
       "      <th>region</th>\n",
       "      <th>crime_rate</th>\n",
       "    </tr>\n",
       "  </thead>\n",
       "  <tbody>\n",
       "    <tr>\n",
       "      <th>0</th>\n",
       "      <td>2779</td>\n",
       "      <td>64.740344</td>\n",
       "      <td>19.081210</td>\n",
       "      <td>21383</td>\n",
       "      <td>42474</td>\n",
       "      <td>56.826170</td>\n",
       "      <td>1610.899756</td>\n",
       "      <td>49369</td>\n",
       "      <td>1</td>\n",
       "      <td>40.241018</td>\n",
       "    </tr>\n",
       "    <tr>\n",
       "      <th>1</th>\n",
       "      <td>17136</td>\n",
       "      <td>81.963388</td>\n",
       "      <td>13.372998</td>\n",
       "      <td>24292</td>\n",
       "      <td>7402</td>\n",
       "      <td>57.876939</td>\n",
       "      <td>1546.063090</td>\n",
       "      <td>8646</td>\n",
       "      <td>3</td>\n",
       "      <td>31.971924</td>\n",
       "    </tr>\n",
       "    <tr>\n",
       "      <th>2</th>\n",
       "      <td>2543</td>\n",
       "      <td>98.148348</td>\n",
       "      <td>18.264770</td>\n",
       "      <td>895</td>\n",
       "      <td>1278</td>\n",
       "      <td>63.528596</td>\n",
       "      <td>541.920196</td>\n",
       "      <td>53258</td>\n",
       "      <td>2</td>\n",
       "      <td>82.241807</td>\n",
       "    </tr>\n",
       "    <tr>\n",
       "      <th>3</th>\n",
       "      <td>23118</td>\n",
       "      <td>22.571599</td>\n",
       "      <td>12.372168</td>\n",
       "      <td>11863</td>\n",
       "      <td>44371</td>\n",
       "      <td>49.677619</td>\n",
       "      <td>2350.256016</td>\n",
       "      <td>60069</td>\n",
       "      <td>2</td>\n",
       "      <td>32.554679</td>\n",
       "    </tr>\n",
       "    <tr>\n",
       "      <th>4</th>\n",
       "      <td>3607</td>\n",
       "      <td>66.826484</td>\n",
       "      <td>20.881840</td>\n",
       "      <td>18165</td>\n",
       "      <td>47003</td>\n",
       "      <td>56.377810</td>\n",
       "      <td>3691.624493</td>\n",
       "      <td>29416</td>\n",
       "      <td>2</td>\n",
       "      <td>83.813067</td>\n",
       "    </tr>\n",
       "  </tbody>\n",
       "</table>\n",
       "</div>"
      ],
      "text/plain": [
       "   land_area  percent_city  percent_senior  physicians  hospital_beds  \\\n",
       "0       2779     64.740344       19.081210       21383          42474   \n",
       "1      17136     81.963388       13.372998       24292           7402   \n",
       "2       2543     98.148348       18.264770         895           1278   \n",
       "3      23118     22.571599       12.372168       11863          44371   \n",
       "4       3607     66.826484       20.881840       18165          47003   \n",
       "\n",
       "   graduates   work_force  income  region  crime_rate  \n",
       "0  56.826170  1610.899756   49369       1   40.241018  \n",
       "1  57.876939  1546.063090    8646       3   31.971924  \n",
       "2  63.528596   541.920196   53258       2   82.241807  \n",
       "3  49.677619  2350.256016   60069       2   32.554679  \n",
       "4  56.377810  3691.624493   29416       2   83.813067  "
      ]
     },
     "execution_count": 35,
     "metadata": {},
     "output_type": "execute_result"
    }
   ],
   "source": [
    "df2 = pd.read_csv('synth_metro.csv')\n",
    "df2=df2.drop(\"Unnamed: 0\",axis=1) #dropping extra column\n",
    "df2.head()"
   ]
  },
  {
   "cell_type": "code",
   "execution_count": 36,
   "id": "09193c9f",
   "metadata": {},
   "outputs": [
    {
     "data": {
      "text/html": [
       "<div>\n",
       "<style scoped>\n",
       "    .dataframe tbody tr th:only-of-type {\n",
       "        vertical-align: middle;\n",
       "    }\n",
       "\n",
       "    .dataframe tbody tr th {\n",
       "        vertical-align: top;\n",
       "    }\n",
       "\n",
       "    .dataframe thead th {\n",
       "        text-align: right;\n",
       "    }\n",
       "</style>\n",
       "<table border=\"1\" class=\"dataframe\">\n",
       "  <thead>\n",
       "    <tr style=\"text-align: right;\">\n",
       "      <th></th>\n",
       "      <th>land_area</th>\n",
       "      <th>percent_city</th>\n",
       "      <th>percent_senior</th>\n",
       "      <th>physicians</th>\n",
       "      <th>hospital_beds</th>\n",
       "      <th>graduates</th>\n",
       "      <th>work_force</th>\n",
       "      <th>income</th>\n",
       "      <th>region</th>\n",
       "      <th>crime_rate</th>\n",
       "    </tr>\n",
       "  </thead>\n",
       "  <tbody>\n",
       "    <tr>\n",
       "      <th>count</th>\n",
       "      <td>99.000000</td>\n",
       "      <td>99.000000</td>\n",
       "      <td>99.000000</td>\n",
       "      <td>99.000000</td>\n",
       "      <td>99.000000</td>\n",
       "      <td>99.000000</td>\n",
       "      <td>99.000000</td>\n",
       "      <td>99.000000</td>\n",
       "      <td>99.000000</td>\n",
       "      <td>99.000000</td>\n",
       "    </tr>\n",
       "    <tr>\n",
       "      <th>mean</th>\n",
       "      <td>13922.676768</td>\n",
       "      <td>60.441271</td>\n",
       "      <td>13.030075</td>\n",
       "      <td>13843.575758</td>\n",
       "      <td>34508.343434</td>\n",
       "      <td>50.913979</td>\n",
       "      <td>2049.159254</td>\n",
       "      <td>36325.191919</td>\n",
       "      <td>2.060606</td>\n",
       "      <td>53.403579</td>\n",
       "    </tr>\n",
       "    <tr>\n",
       "      <th>std</th>\n",
       "      <td>7833.447975</td>\n",
       "      <td>24.444807</td>\n",
       "      <td>5.373449</td>\n",
       "      <td>7329.091104</td>\n",
       "      <td>18975.554174</td>\n",
       "      <td>12.529008</td>\n",
       "      <td>1163.651961</td>\n",
       "      <td>18811.350266</td>\n",
       "      <td>0.818388</td>\n",
       "      <td>17.159458</td>\n",
       "    </tr>\n",
       "    <tr>\n",
       "      <th>min</th>\n",
       "      <td>313.000000</td>\n",
       "      <td>13.750566</td>\n",
       "      <td>3.801002</td>\n",
       "      <td>219.000000</td>\n",
       "      <td>581.000000</td>\n",
       "      <td>30.765214</td>\n",
       "      <td>82.307418</td>\n",
       "      <td>3526.000000</td>\n",
       "      <td>1.000000</td>\n",
       "      <td>23.234123</td>\n",
       "    </tr>\n",
       "    <tr>\n",
       "      <th>25%</th>\n",
       "      <td>6482.500000</td>\n",
       "      <td>41.740054</td>\n",
       "      <td>9.175413</td>\n",
       "      <td>7393.500000</td>\n",
       "      <td>20421.500000</td>\n",
       "      <td>40.904162</td>\n",
       "      <td>1080.610093</td>\n",
       "      <td>22207.000000</td>\n",
       "      <td>1.000000</td>\n",
       "      <td>39.074443</td>\n",
       "    </tr>\n",
       "    <tr>\n",
       "      <th>50%</th>\n",
       "      <td>14514.000000</td>\n",
       "      <td>62.684124</td>\n",
       "      <td>12.893249</td>\n",
       "      <td>14242.000000</td>\n",
       "      <td>35781.000000</td>\n",
       "      <td>50.476843</td>\n",
       "      <td>2009.897226</td>\n",
       "      <td>34307.000000</td>\n",
       "      <td>2.000000</td>\n",
       "      <td>53.889046</td>\n",
       "    </tr>\n",
       "    <tr>\n",
       "      <th>75%</th>\n",
       "      <td>20034.000000</td>\n",
       "      <td>80.806314</td>\n",
       "      <td>17.737531</td>\n",
       "      <td>19785.500000</td>\n",
       "      <td>47777.500000</td>\n",
       "      <td>60.250673</td>\n",
       "      <td>3003.513888</td>\n",
       "      <td>51462.500000</td>\n",
       "      <td>3.000000</td>\n",
       "      <td>67.356950</td>\n",
       "    </tr>\n",
       "    <tr>\n",
       "      <th>max</th>\n",
       "      <td>27051.000000</td>\n",
       "      <td>98.148348</td>\n",
       "      <td>21.886932</td>\n",
       "      <td>25549.000000</td>\n",
       "      <td>68040.000000</td>\n",
       "      <td>72.812988</td>\n",
       "      <td>4019.796088</td>\n",
       "      <td>72068.000000</td>\n",
       "      <td>3.000000</td>\n",
       "      <td>83.813067</td>\n",
       "    </tr>\n",
       "  </tbody>\n",
       "</table>\n",
       "</div>"
      ],
      "text/plain": [
       "          land_area  percent_city  percent_senior    physicians  \\\n",
       "count     99.000000     99.000000       99.000000     99.000000   \n",
       "mean   13922.676768     60.441271       13.030075  13843.575758   \n",
       "std     7833.447975     24.444807        5.373449   7329.091104   \n",
       "min      313.000000     13.750566        3.801002    219.000000   \n",
       "25%     6482.500000     41.740054        9.175413   7393.500000   \n",
       "50%    14514.000000     62.684124       12.893249  14242.000000   \n",
       "75%    20034.000000     80.806314       17.737531  19785.500000   \n",
       "max    27051.000000     98.148348       21.886932  25549.000000   \n",
       "\n",
       "       hospital_beds  graduates   work_force        income     region  \\\n",
       "count      99.000000  99.000000    99.000000     99.000000  99.000000   \n",
       "mean    34508.343434  50.913979  2049.159254  36325.191919   2.060606   \n",
       "std     18975.554174  12.529008  1163.651961  18811.350266   0.818388   \n",
       "min       581.000000  30.765214    82.307418   3526.000000   1.000000   \n",
       "25%     20421.500000  40.904162  1080.610093  22207.000000   1.000000   \n",
       "50%     35781.000000  50.476843  2009.897226  34307.000000   2.000000   \n",
       "75%     47777.500000  60.250673  3003.513888  51462.500000   3.000000   \n",
       "max     68040.000000  72.812988  4019.796088  72068.000000   3.000000   \n",
       "\n",
       "       crime_rate  \n",
       "count   99.000000  \n",
       "mean    53.403579  \n",
       "std     17.159458  \n",
       "min     23.234123  \n",
       "25%     39.074443  \n",
       "50%     53.889046  \n",
       "75%     67.356950  \n",
       "max     83.813067  "
      ]
     },
     "execution_count": 36,
     "metadata": {},
     "output_type": "execute_result"
    }
   ],
   "source": [
    "df2.describe()"
   ]
  },
  {
   "cell_type": "code",
   "execution_count": 37,
   "id": "98b49bcf",
   "metadata": {},
   "outputs": [
    {
     "name": "stdout",
     "output_type": "stream",
     "text": [
      "<class 'pandas.core.frame.DataFrame'>\n",
      "RangeIndex: 99 entries, 0 to 98\n",
      "Data columns (total 10 columns):\n",
      " #   Column          Non-Null Count  Dtype  \n",
      "---  ------          --------------  -----  \n",
      " 0   land_area       99 non-null     int64  \n",
      " 1   percent_city    99 non-null     float64\n",
      " 2   percent_senior  99 non-null     float64\n",
      " 3   physicians      99 non-null     int64  \n",
      " 4   hospital_beds   99 non-null     int64  \n",
      " 5   graduates       99 non-null     float64\n",
      " 6   work_force      99 non-null     float64\n",
      " 7   income          99 non-null     int64  \n",
      " 8   region          99 non-null     int64  \n",
      " 9   crime_rate      99 non-null     float64\n",
      "dtypes: float64(5), int64(5)\n",
      "memory usage: 7.9 KB\n"
     ]
    }
   ],
   "source": [
    "df2.info()"
   ]
  },
  {
   "cell_type": "code",
   "execution_count": 39,
   "id": "3aa3c16c",
   "metadata": {},
   "outputs": [
    {
     "data": {
      "text/plain": [
       "Index(['land_area', 'percent_city', 'percent_senior', 'physicians',\n",
       "       'hospital_beds', 'graduates', 'work_force', 'income', 'region',\n",
       "       'crime_rate'],\n",
       "      dtype='object')"
      ]
     },
     "execution_count": 39,
     "metadata": {},
     "output_type": "execute_result"
    }
   ],
   "source": [
    "df2.describe().columns"
   ]
  },
  {
   "cell_type": "code",
   "execution_count": 40,
   "id": "557dd895",
   "metadata": {},
   "outputs": [
    {
     "data": {
      "text/plain": [
       "<AxesSubplot:>"
      ]
     },
     "execution_count": 40,
     "metadata": {},
     "output_type": "execute_result"
    },
    {
     "data": {
      "image/png": "[encoded data removed]",
      "text/plain": [
       "<Figure size 432x288 with 2 Axes>"
      ]
     },
     "metadata": {
      "needs_background": "light"
     },
     "output_type": "display_data"
    }
   ],
   "source": [
    "sb.heatmap(df2.corr(), annot=True) #finding correlations between the attributes"
   ]
  },
  {
   "cell_type": "code",
   "execution_count": 90,
   "id": "72a9ee6f",
   "metadata": {},
   "outputs": [],
   "source": [
    "## Performing a simple feature selection\n",
    "X = df2[['land_area', 'percent_city', 'percent_senior', 'physicians',\n",
    "       'hospital_beds', 'graduates', 'work_force', 'income', 'region']].values\n",
    "Y = df2[['crime_rate']].values"
   ]
  },
  {
   "cell_type": "code",
   "execution_count": 91,
   "id": "43180a26",
   "metadata": {},
   "outputs": [],
   "source": [
    "X_train, X_test, Y_train, Y_test = train_test_split(X, Y)"
   ]
  },
  {
   "cell_type": "code",
   "execution_count": 92,
   "id": "6b2c8a94",
   "metadata": {},
   "outputs": [
    {
     "data": {
      "text/plain": [
       "LinearRegression()"
      ]
     },
     "execution_count": 92,
     "metadata": {},
     "output_type": "execute_result"
    }
   ],
   "source": [
    "linReg.fit(X_train,Y_train)"
   ]
  },
  {
   "cell_type": "code",
   "execution_count": 93,
   "id": "21a763a6",
   "metadata": {},
   "outputs": [
    {
     "data": {
      "text/plain": [
       "0.020879492515947895"
      ]
     },
     "execution_count": 93,
     "metadata": {},
     "output_type": "execute_result"
    }
   ],
   "source": [
    "linReg.score(X_test,Y_test) # R2 score"
   ]
  },
  {
   "cell_type": "code",
   "execution_count": 97,
   "id": "0df9d8d0",
   "metadata": {},
   "outputs": [
    {
     "data": {
      "image/png": "[encoded data removed]",
      "text/plain": [
       "<Figure size 720x720 with 1 Axes>"
      ]
     },
     "metadata": {
      "needs_background": "light"
     },
     "output_type": "display_data"
    }
   ],
   "source": [
    "# comparing the results\n",
    "datasets = [\"Synthetic\",\"Actual\"]\n",
    "values = ['0.020879492515947895','0.5097754671085375']\n",
    "  \n",
    "fig = plt.figure(figsize = (10, 10))\n",
    "# creating the bar plot\n",
    "plt.bar(datasets, values, color ='maroon',\n",
    "        width = 0.4)\n",
    "plt.xlabel(\"Datasets\")\n",
    "plt.ylabel(\"R2 Scores\")\n",
    "plt.title(\"Comparison Between Actual and Synthesised Data\")\n",
    "plt.show()"
   ]
  },
  {
   "cell_type": "markdown",
   "id": "53577f4d",
   "metadata": {},
   "source": [
    "We can clearly observe that our basic linear regression model works better on actual dataset than compared to synthetic dataset.\n",
    "\n",
    "The problem with creating synthetic datasets that have more than 1 feature is that there are no relationships between features, as they are random. This leads to poor quality in terms of insights as all columns are independent from each other."
   ]
  }
 ],
 "metadata": {
  "kernelspec": {
   "display_name": "Python 3",
   "language": "python",
   "name": "python3"
  },
  "language_info": {
   "codemirror_mode": {
    "name": "ipython",
    "version": 3
   },
   "file_extension": ".py",
   "mimetype": "text/x-python",
   "name": "python",
   "nbconvert_exporter": "python",
   "pygments_lexer": "ipython3",
   "version": "3.7.3"
  }
 },
 "nbformat": 4,
 "nbformat_minor": 5
}
